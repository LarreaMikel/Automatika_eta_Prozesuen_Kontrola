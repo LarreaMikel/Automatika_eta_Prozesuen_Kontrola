{
 "cells": [
  {
   "cell_type": "code",
   "execution_count": 2,
   "metadata": {},
   "outputs": [
    {
     "name": "stdout",
     "output_type": "stream",
     "text": [
      "Requirement already satisfied: slycot in /srv/conda/lib/python3.6/site-packages (0.3.3)\n",
      "Requirement already satisfied: control in /srv/conda/lib/python3.6/site-packages (0.8.0)\n",
      "Requirement already satisfied: numpy in /srv/conda/lib/python3.6/site-packages (from control) (1.15.1)\n",
      "Requirement already satisfied: scipy in /srv/conda/lib/python3.6/site-packages (from control) (1.1.0)\n",
      "Requirement already satisfied: matplotlib in /srv/conda/lib/python3.6/site-packages (from control) (2.1.2)\n",
      "Requirement already satisfied: six>=1.10 in /srv/conda/lib/python3.6/site-packages (from matplotlib->control) (1.11.0)\n",
      "Requirement already satisfied: python-dateutil>=2.1 in /srv/conda/lib/python3.6/site-packages (from matplotlib->control) (2.7.3)\n",
      "Requirement already satisfied: pytz in /srv/conda/lib/python3.6/site-packages (from matplotlib->control) (2018.5)\n",
      "Requirement already satisfied: cycler>=0.10 in /srv/conda/lib/python3.6/site-packages (from matplotlib->control) (0.10.0)\n",
      "Requirement already satisfied: pyparsing!=2.0.4,!=2.1.2,!=2.1.6,>=2.0.1 in /srv/conda/lib/python3.6/site-packages (from matplotlib->control) (2.2.0)\n"
     ]
    }
   ],
   "source": [
    "!pip install slycot\n",
    "!pip install control"
   ]
  },
  {
   "cell_type": "code",
   "execution_count": 15,
   "metadata": {},
   "outputs": [],
   "source": [
    "import control\n",
    "from numpy import *             # Grab all of the NumPy functions\n",
    "from matplotlib.pyplot import * # Grab MATLAB plotting functions\n",
    "from control.matlab import *    # MATLAB-like functions\n",
    "from ipywidgets import interactive, fixed"
   ]
  },
  {
   "cell_type": "code",
   "execution_count": 17,
   "metadata": {},
   "outputs": [
    {
     "data": {
      "application/vnd.jupyter.widget-view+json": {
       "model_id": "e06719c7c776475291541e346ee876e5",
       "version_major": 2,
       "version_minor": 0
      },
      "text/plain": [
       "interactive(children=(FloatSlider(value=1.0, description='K', max=5.0), Output()), _dom_classes=('widget-inter…"
      ]
     },
     "metadata": {},
     "output_type": "display_data"
    }
   ],
   "source": [
    "#K = 1\n",
    "\n",
    "from sistema import solve_sistema\n",
    "\n",
    "w=interactive(solve_sistema,K=(0.0,5.0))\n",
    "w\n",
    "\n"
   ]
  },
  {
   "cell_type": "code",
   "execution_count": null,
   "metadata": {},
   "outputs": [],
   "source": []
  }
 ],
 "metadata": {
  "kernelspec": {
   "display_name": "Python 3",
   "language": "python",
   "name": "python3"
  },
  "language_info": {
   "codemirror_mode": {
    "name": "ipython",
    "version": 3
   },
   "file_extension": ".py",
   "mimetype": "text/x-python",
   "name": "python",
   "nbconvert_exporter": "python",
   "pygments_lexer": "ipython3",
   "version": "3.6.6"
  }
 },
 "nbformat": 4,
 "nbformat_minor": 2
}
